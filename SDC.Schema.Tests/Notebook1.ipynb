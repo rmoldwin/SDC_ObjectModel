{
  "cells": [
    {
      "cell_type": "code",
      "execution_count": 1,
      "metadata": {
        "dotnet_interactive": {
          "language": "csharp"
        }
      },
      "source": [
        "#r \"..\\SDC.Schema\\bin\\Debug\\net6.0\\SDC.Schema.dll\"\n",
        "#r \"C:\\Users\\rmoldwi\\.nuget\\packages\\csharpvitamins.shortguid\\2.0.0\\lib\\netstandard2.0\\CSharpVitamins.ShortGuid.dll\"\n",
        "#r \"C:\\Users\\rmoldwi\\.nuget\\packages\\newtonsoft.json\\13.0.1\\lib\\netstandard2.0\\Newtonsoft.Json.dll\"\n",
        "#r \"C:\\Users\\rmoldwi\\.nuget\\packages\\newtonsoft.msgpack\\0.1.11\\lib\\netstandard2.0\\Newtonsoft.Msgpack.dll\"\n",
        "#r \"C:\\Users\\rmoldwi\\.nuget\\packages\\msgpack.cli\\1.0.1\\lib\\netstandard2.0\\MsgPack.dll\"\n",
        "#r \"C:\\Users\\rmoldwi\\.nuget\\packages\\newtonsoft.json.bson\\1.0.2\\lib\\netstandard2.0\\Newtonsoft.Json.Bson.dll\"\n",
        "\n",
        "using System.Diagnostics;\n",
        "using s = SDC.Schema;"
      ],
      "outputs": []
    },
    {
      "cell_type": "code",
      "execution_count": 1,
      "metadata": {
        "dotnet_interactive": {
          "language": "csharp"
        }
      },
      "source": [
        "\n",
        "Debug.WriteLine(\"Debug\");\n",
        "Console.WriteLine(\"Console\");\n",
        "\n",
        "var FD = new SDC.Schema.FormDesignType(null, \"123\");\n",
        "\n",
        "display(FD.ID);\n",
        "\n",
        "\n",
        ""
      ],
      "outputs": [
        {
          "output_type": "execute_result",
          "data": {
            "text/plain": "Console\r\n"
          },
          "execution_count": 1,
          "metadata": {}
        },
        {
          "output_type": "execute_result",
          "data": {
            "text/plain": "123"
          },
          "execution_count": 1,
          "metadata": {}
        }
      ]
    },
    {
      "cell_type": "markdown",
      "metadata": {},
      "source": [
        "///"
      ]
    }
  ],
  "metadata": {
    "kernelspec": {
      "display_name": ".NET (C#)",
      "language": "C#",
      "name": ".net-csharp"
    },
    "language_info": {
      "file_extension": ".cs",
      "mimetype": "text/x-csharp",
      "name": "C#",
      "pygments_lexer": "csharp",
      "version": "8.0"
    }
  },
  "nbformat": 4,
  "nbformat_minor": 4
}