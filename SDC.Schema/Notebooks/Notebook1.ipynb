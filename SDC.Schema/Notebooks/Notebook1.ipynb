{
  "cells": [
    {
      "cell_type": "markdown",
      "metadata": {},
      "source": [
        "//C:\\Users\\rmoldwi\\OneDrive\\One Drive Documents\\SDC\\SDC Git Repo\\SDC_CodeGeneratorTests\\SDCObjectModelTests\\Test files\\BreastStagingTest.xml\n",
        "\n",
        "//C:\\Users\\rmoldwi\\OneDrive\\One Drive Documents\\SDC\\SDC Git Repo\\SDC_CodeGeneratorTests\\Test files\\BreastStagingTest.xml'."
      ]
    },
    {
      "cell_type": "code",
      "execution_count": 1,
      "metadata": {
        "dotnet_interactive": {
          "language": "csharp"
        }
      },
      "source": [
        "//#r \"C:\\Users\\rmoldwi\\OneDrive\\One Drive Documents\\SDC\\SDC Git Repo\\SDC_CodeGeneratorTests\\SDC_CodeGeneratorTest\\obj\\Debug\\net6.0\\SDC_CodeGeneratorTest.dll\"  //SDC.Schema namespace\n",
        "#r \"C:\\Users\\rmoldwi\\OneDrive\\One Drive Documents\\SDC\\SDC Git Repo\\SDC.Schema\\SDC.Schema\\obj\\Debug\\net6.0\\SDC.Schema.dll\"\n",
        "//#r \"C:\\Users\\rmoldwi\\.nuget\\packages\\csharpvitamins.shortguid\\2.0.0\\lib\\netstandard2.0\\CSharpVitamins.ShortGuid.dll\"\n",
        "//#r \"C:\\Users\\rmoldwi\\.nuget\\packages\\newtonsoft.json\\13.0.1\\lib\\netstandard2.0\\Newtonsoft.Json.dll\"\n",
        "//#r \"C:\\Users\\rmoldwi\\.nuget\\packages\\newtonsoft.msgpack\\0.1.11\\lib\\netstandard2.0\\Newtonsoft.Msgpack.dll\"\n",
        "//#r \"C:\\Users\\rmoldwi\\.nuget\\packages\\msgpack.cli\\1.0.1\\lib\\netstandard2.0\\MsgPack.dll\"\n",
        "//#r \"C:\\Users\\rmoldwi\\.nuget\\packages\\newtonsoft.json.bson\\1.0.2\\lib\\netstandard2.0\\Newtonsoft.Json.Bson.dll\"\n",
        "\n",
        "using System.Diagnostics;\n",
        "using s = SDC.Schema;\n",
        "\n",
        "using System;\n",
        "using System.Diagnostics;\n",
        "using System.Xml.Serialization;\n",
        "using System.Runtime.Serialization;\n",
        "using System.Collections;\n",
        "using System.Xml.Schema;\n",
        "using System.ComponentModel;\n",
        "using System.Collections.Specialized;\n",
        "using System.Collections.ObjectModel;\n",
        "using System.Reflection;\n",
        "using System.Globalization;\n",
        "using System.Xml;\n",
        "using Newtonsoft.Json.Bson;\n",
        "using Newtonsoft.Json;\n",
        "using Newtonsoft.Json.Converters;\n",
        "\n",
        "using System.IO;\n",
        "using System.Text;\n",
        "\n",
        "using System.Collections.Generic;\n",
        "using SDC.Schema;"
      ],
      "outputs": []
    },
    {
      "cell_type": "code",
      "execution_count": 1,
      "metadata": {
        "dotnet_interactive": {
          "language": "csharp"
        }
      },
      "source": [
        "\n",
        "\n",
        " \n",
        "display(Path.GetDirectoryName(Assembly.GetExecutingAssembly().Location));\n",
        "display(System.IO.Path.GetDirectoryName(Assembly.GetEntryAssembly().Location));\n",
        "//display(System.IO.Path.GetDirectoryName(Application.ExecutablePath));\n",
        "//string _XmlPath = Path.Combine(\"..\", \"Test files\", \"BreastStagingTest.xml\");\n",
        "//string _Xml = System.IO.File.ReadAllText(_XmlPath);\n",
        "//var FD = FormDesignType.DeserializeFromXml(_Xml);\n",
        "\n",
        ""
      ],
      "outputs": [
        {
          "output_type": "execute_result",
          "data": {
            "text/html": "<div class=\"dni-plaintext\">&lt;null&gt;</div>"
          },
          "execution_count": 1,
          "metadata": {}
        },
        {
          "output_type": "execute_result",
          "data": {
            "text/plain": "C:\\Users\\rmoldwi\\.nuget\\packages\\microsoft.dotnet-interactive\\1.0.310301\\tools\\net6.0\\any"
          },
          "execution_count": 1,
          "metadata": {}
        }
      ]
    }
  ],
  "metadata": {
    "kernelspec": {
      "display_name": ".NET (C#)",
      "language": "C#",
      "name": ".net-csharp"
    },
    "language_info": {
      "file_extension": ".cs",
      "mimetype": "text/x-csharp",
      "name": "C#",
      "pygments_lexer": "csharp",
      "version": "8.0"
    }
  },
  "nbformat": 4,
  "nbformat_minor": 4
}